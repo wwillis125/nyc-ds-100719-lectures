{
 "cells": [
  {
   "cell_type": "markdown",
   "metadata": {},
   "source": [
    "# Yelp API - Lab\n",
    "\n",
    "\n",
    "\n",
    "## Introduction \n",
    "\n",
    "Now that we've seen how the Yelp API works, it's time to put those API and SQL skills to work in order to do some basic business analysis! Taking things a step further, you'll also independently explore how to perform pagination in order to retrieve a full results set from the Yelp API!\n",
    "\n",
    "## Objectives\n",
    "\n",
    "You will be able to:\n",
    "* Create a DB on AWS to store information from Yelp about businesses\n",
    "* Create HTTP requests to get data from Yelp API\n",
    "* Parse HTTP responses and insert the information into your DB\n",
    "* Perform pagination to retrieve troves of data!\n",
    "* Write SQL queries to answer questions about your data "
   ]
  },
  {
   "cell_type": "markdown",
   "metadata": {},
   "source": [
    "## Problem Introduction\n",
    "\n",
    "For this lab you will analyze the yelp data for a group of businesses to learn more about an industry. You will choose a type of business (Italian Restuarants, Nail Salons, Crossfit gyms) and a location to analyze. Then you will get data from the Yelp API, store that data in a SQL Database on AWS, and write queries to answer questions about the data. \n",
    "\n",
    "\n",
    "### Process:\n",
    "\n",
    "1. Read through the SQL questions and the API documentation to determine which pieces of information you need to pull from the Yelp API.\n",
    "\n",
    "2. Create a DB schema with 2 tables. One for the businesses and one for the reviews.\n",
    "\n",
    "3. Create code to:\n",
    "  - Perform a search of businesses using pagination\n",
    "  - Parse the API response for specific data points\n",
    "  - Insert the data into your AWS DB\n",
    "\n",
    "4. Use the functions above in a loop that will paginate over the results to retrieve all of the results. \n",
    "\n",
    "5. Create functions to:\n",
    "  - Retrieve the reviews data of one business\n",
    "  - Parse the reviews response for specific review data\n",
    "  - Insert the review data into the DB\n",
    "\n",
    "6. Using SQL, query all of the business IDs. Using the 3 Python functions you've created, run your business IDs through a loop to get the reviews for each business and insert them into your DB.\n",
    "\n",
    "7. Write SQL queries to answer the following questions about your data.\n",
    "\n",
    "\n",
    "Bonus Steps:  \n",
    "- Place your helper functions in a package so that your final notebook only has the major steps listed.\n",
    "- Rewrite your business search functions to be able take an argument for the type of business you are searching for.\n",
    "- Add another group of businesses to your database.\n",
    "\n",
    "\n",
    "\n",
    "\n",
    "COMMIT AFTER EACH INSERT!!!!!!!"
   ]
  },
  {
   "cell_type": "markdown",
   "metadata": {},
   "source": [
    " \n",
    "## SQL Questions:\n",
    "\n",
    "- Which are the 5 most reviewed businesses?\n",
    "- What is the highest rating recieved in your data set and how many businesses have that rating?\n",
    "- What percentage of businesses have a rating greater than or  4.5?\n",
    "- What percentage of businesses have a rating less than 3?\n",
    "- What is the average rating of restaurants that have a price label of one dollar sign? Two dollar signs? Three dollar signs? \n",
    "- Return the text of the reviews for the most reviewed restaurant. \n",
    "- Find the highest rated business and return text of the most recent review. If multiple business have the same rating, select the restaurant with the most reviews. \n",
    "- Find the lowest rated business and return text of the most recent review.  If multiple business have the same rating, select the restaurant with the least reviews. \n"
   ]
  },
  {
   "cell_type": "markdown",
   "metadata": {},
   "source": [
    "## Part I - Set up the DB\n",
    "\n",
    "Start by reading SQL questions above to get an understanding of the data you will need. Then, read the documentation of Yelp API to understand what data you will receive in the response.  \n",
    "\n",
    "\n",
    "Now that you are familiar with the data, create your SQL queries to create the DB and the appropriate tables. "
   ]
  },
  {
   "cell_type": "code",
   "execution_count": 4,
   "metadata": {},
   "outputs": [
    {
     "ename": "ModuleNotFoundError",
     "evalue": "No module named 'config'",
     "output_type": "error",
     "traceback": [
      "\u001b[0;31m---------------------------------------------------------------------------\u001b[0m",
      "\u001b[0;31mModuleNotFoundError\u001b[0m                       Traceback (most recent call last)",
      "\u001b[0;32m<ipython-input-4-f0e5e3190da8>\u001b[0m in \u001b[0;36m<module>\u001b[0;34m\u001b[0m\n\u001b[1;32m      1\u001b[0m \u001b[0;31m## Connect to DB server on AWS\u001b[0m\u001b[0;34m\u001b[0m\u001b[0;34m\u001b[0m\u001b[0;34m\u001b[0m\u001b[0m\n\u001b[1;32m      2\u001b[0m \u001b[0;32mimport\u001b[0m \u001b[0mmysql\u001b[0m\u001b[0;34m.\u001b[0m\u001b[0mconnector\u001b[0m\u001b[0;34m\u001b[0m\u001b[0;34m\u001b[0m\u001b[0m\n\u001b[0;32m----> 3\u001b[0;31m \u001b[0;32mimport\u001b[0m \u001b[0mconfig\u001b[0m\u001b[0;34m\u001b[0m\u001b[0;34m\u001b[0m\u001b[0m\n\u001b[0m\u001b[1;32m      4\u001b[0m \u001b[0;34m\u001b[0m\u001b[0m\n\u001b[1;32m      5\u001b[0m cnx = mysql.connector.connect(\n",
      "\u001b[0;31mModuleNotFoundError\u001b[0m: No module named 'config'"
     ]
    }
   ],
   "source": [
    "## Connect to DB server on AWS\n",
    "import mysql.connector\n",
    "import config\n",
    "\n",
    "cnx = mysql.connector.connect(\n",
    "        host = config.host,\n",
    "        user = config.user,\n",
    "        password = config.password,\n",
    ")\n",
    "cursor = cnx.cursor()"
   ]
  },
  {
   "cell_type": "code",
   "execution_count": 3,
   "metadata": {},
   "outputs": [],
   "source": [
    "db_name = 'yelp_reviews'"
   ]
  },
  {
   "cell_type": "code",
   "execution_count": null,
   "metadata": {},
   "outputs": [],
   "source": [
    "cursor.execute(\"CREATE DATABASE {} DEFAULT CHARACTER SET 'utf8'\".format(db_name))\n",
    "cursor.close()\n",
    "cnx.close()"
   ]
  },
  {
   "cell_type": "code",
   "execution_count": 4,
   "metadata": {},
   "outputs": [],
   "source": [
    "cnx = mysql.connector.connect(\n",
    "        host = config.host,\n",
    "        user = config.user,\n",
    "        password = config.password,\n",
    "        database = db_name\n",
    ")\n",
    "cursor = cnx.cursor()"
   ]
  },
  {
   "cell_type": "code",
   "execution_count": null,
   "metadata": {},
   "outputs": [],
   "source": [
    "# Create a table for the Businesses\n",
    "TABLES = {};\n",
    "TABLES[\"hotels\"] = (\"\"\"\n",
    "      CREATE TABLE hotels (\n",
    "      business_id varchar(50) NOT NULL UNIQUE,\n",
    "      name varchar(100) NOT NULL,\n",
    "      review_count int(4) NOT NULL,\n",
    "      rating float(4) NOT NULL,\n",
    "      price varchar(5),\n",
    "      genre varchar(25),\n",
    "      network varchar (10)\n",
    "      PRIMARY KEY (business_id)\n",
    "      )\n",
    "\"\"\")"
   ]
  },
  {
   "cell_type": "code",
   "execution_count": null,
   "metadata": {
    "scrolled": false
   },
   "outputs": [],
   "source": [
    "# Create a table for the reviews\n",
    "TABLES[\"reviews\"] = (\"\"\"\n",
    "      CREATE TABLE reviews (\n",
    "      review_id varchar(50) NOT NULL UNIQUE,\n",
    "      business_id varchar(50) NOT NULL,\n",
    "      review_text varchar(500) NOT NULL,\n",
    "      PRIMARY KEY (review_id),\n",
    "      FOREIGN KEY (business_id) REFERENCES hotels(business_id)\n",
    "      )\n",
    "\"\"\")"
   ]
  },
  {
   "cell_type": "code",
   "execution_count": null,
   "metadata": {},
   "outputs": [],
   "source": [
    "# def create_table(TABLES):\n",
    "for table_name in TABLES:\n",
    "    table_description = TABLES[table_name]\n",
    "    cursor.execute(table_description)"
   ]
  },
  {
   "cell_type": "code",
   "execution_count": 5,
   "metadata": {},
   "outputs": [],
   "source": [
    "cursor.close()\n",
    "cnx.close()"
   ]
  },
  {
   "cell_type": "markdown",
   "metadata": {},
   "source": [
    "## Part 2: Create ETL pipeline for the business data from the API"
   ]
  },
  {
   "cell_type": "code",
   "execution_count": 31,
   "metadata": {},
   "outputs": [],
   "source": [
    "import requests\n",
    "\n",
    "client_id = 'UPf5tdRgr65dzjOVrAbSnQ'\n",
    "api_key = 'G_ZNKs8WP13zcjHp0oHpw1760A0NB-IPNhlX27GtQp0tGgE9sDLhh-CFmcAuxtwHgBIgfTp4V0jNHWwWukAzZuWKFv05HocGeRvBxQKNPEgo-Oqkn38-9c1yUFOzXXYx'"
   ]
  },
  {
   "cell_type": "code",
   "execution_count": null,
   "metadata": {},
   "outputs": [],
   "source": [
    "# Write a function to make a call to the yelp API\n",
    "term = 'Hotels'\n",
    "location = 'Manhattan NY'    \n",
    "url_params = {  'term': term.replace(' ', '+'),\n",
    "                'location': location.replace(' ', '+'),\n",
    "                'limit': 50\n",
    "             }\n",
    "\n",
    "def yelp_call(url_params, api_key):\n",
    "    url = 'https://api.yelp.com/v3/businesses/search'\n",
    "    headers = {'Authorization': 'Bearer {}'.format(api_key)}\n",
    "    response = requests.get(url, headers=headers, params=url_params)\n",
    "    yelp_data = response.json()\n",
    "    return yelp_data"
   ]
  },
  {
   "cell_type": "code",
   "execution_count": null,
   "metadata": {},
   "outputs": [],
   "source": [
    "# write a function to parse the API response \n",
    "# so that you can easily insert the data in to the DB\n",
    "\n",
    "def parse_results(yelp_data):\n",
    "    for i in yelp_data['businesses']:\n",
    "        if len(i.keys()) < 16:\n",
    "            i['price'] = ''\n",
    "\n",
    "    hotel_list = []\n",
    "    for hotel in yelp_data['businesses']:\n",
    "        if hotel['price']:\n",
    "            hotel_data = {}\n",
    "            hotel_data['business_id'] = hotel['id']\n",
    "            hotel_data['name'] = hotel['name']\n",
    "            hotel_data['review_count'] = hotel['review_count']\n",
    "            hotel_data['rating'] = hotel['rating']\n",
    "            hotel_data['price'] = hotel['price']\n",
    "            hotel_list.append(hotel_data)\n",
    "        else:\n",
    "            continue\n",
    "    return hotel_list"
   ]
  },
  {
   "cell_type": "code",
   "execution_count": null,
   "metadata": {},
   "outputs": [],
   "source": [
    "# Write a function to take your parsed data and insert it into the DB\n",
    "def hotels_insert(hotel_list):\n",
    "    cnx = mysql.connector.connect(\n",
    "            host = config.host,\n",
    "            user = config.user,\n",
    "            password = config.password,\n",
    "            database = db_name\n",
    "    )\n",
    "    cursor = cnx.cursor()\n",
    "    hotels = []\n",
    "    for hotel in hotel_list:\n",
    "        hotels_tuple =(hotel['business_id'], hotel['name'], hotel['review_count'], hotel['rating'], hotel['price'])\n",
    "        hotels.append(hotels_tuple)\n",
    "\n",
    "    insert_query = \"\"\"\n",
    "    INSERT INTO hotels (business_id, name, review_count, rating, price) VALUES (%s, %s, %s, %s, %s)\n",
    "    \"\"\"\n",
    "\n",
    "    cursor.executemany(insert_query, hotels)\n",
    "    cnx.commit()\n",
    "    cnx.close()"
   ]
  },
  {
   "cell_type": "code",
   "execution_count": null,
   "metadata": {},
   "outputs": [],
   "source": [
    "# Write a script that combines the three functions above into a single process.\n",
    "import time\n",
    "\n",
    "\n",
    "\n",
    "def all_results(url_params, api_key):\n",
    "    num = yelp_data['total']\n",
    "    print('{} total matches found.'.format(num))\n",
    "    cur = 0\n",
    "\n",
    "    while cur < num and cur < 1000:\n",
    "        url_params['offset'] = cur\n",
    "        results = yelp_call(url_params, api_key)\n",
    "        parsed_results = parse_results(results)\n",
    "        hotels_insert(parsed_results)\n",
    "        time.sleep(1)\n",
    "        cur += 50\n",
    "        \n",
    "all_results(url_params, api_key)"
   ]
  },
  {
   "cell_type": "markdown",
   "metadata": {},
   "source": [
    "## Part 3: Create ETL pipeline for the restaurant review data from the API"
   ]
  },
  {
   "cell_type": "code",
   "execution_count": 2,
   "metadata": {},
   "outputs": [
    {
     "ename": "NameError",
     "evalue": "name 'mysql' is not defined",
     "output_type": "error",
     "traceback": [
      "\u001b[0;31m---------------------------------------------------------------------------\u001b[0m",
      "\u001b[0;31mNameError\u001b[0m                                 Traceback (most recent call last)",
      "\u001b[0;32m<ipython-input-2-c1fd8b687d9e>\u001b[0m in \u001b[0;36m<module>\u001b[0;34m\u001b[0m\n\u001b[1;32m      2\u001b[0m \u001b[0;31m# you will need these ids to pull back the reviews for each restaurant\u001b[0m\u001b[0;34m\u001b[0m\u001b[0;34m\u001b[0m\u001b[0;34m\u001b[0m\u001b[0m\n\u001b[1;32m      3\u001b[0m \u001b[0;34m\u001b[0m\u001b[0m\n\u001b[0;32m----> 4\u001b[0;31m cnx = mysql.connector.connect(\n\u001b[0m\u001b[1;32m      5\u001b[0m         \u001b[0mhost\u001b[0m \u001b[0;34m=\u001b[0m \u001b[0mconfig\u001b[0m\u001b[0;34m.\u001b[0m\u001b[0mhost\u001b[0m\u001b[0;34m,\u001b[0m\u001b[0;34m\u001b[0m\u001b[0;34m\u001b[0m\u001b[0m\n\u001b[1;32m      6\u001b[0m         \u001b[0muser\u001b[0m \u001b[0;34m=\u001b[0m \u001b[0mconfig\u001b[0m\u001b[0;34m.\u001b[0m\u001b[0muser\u001b[0m\u001b[0;34m,\u001b[0m\u001b[0;34m\u001b[0m\u001b[0;34m\u001b[0m\u001b[0m\n",
      "\u001b[0;31mNameError\u001b[0m: name 'mysql' is not defined"
     ]
    }
   ],
   "source": [
    "# write a SQL query to pull back all of the business ids \n",
    "# you will need these ids to pull back the reviews for each restaurant\n",
    "\n",
    "cnx = mysql.connector.connect(\n",
    "        host = config.host,\n",
    "        user = config.user,\n",
    "        password = config.password,\n",
    "        database = db_name\n",
    ")\n",
    "cursor = cnx.cursor()\n",
    "cursor.execute(\"\"\"\n",
    "SELECT\n",
    "    name,\n",
    "    business_id\n",
    "FROM\n",
    "    yelp_reviews.hotels\n",
    ";\n",
    "\"\"\")\n",
    "\n",
    "list_bizIDs = []\n",
    "for hotel in cursor.fetchall():\n",
    "    list_bizIDs.append(hotel[1])"
   ]
  },
  {
   "cell_type": "code",
   "execution_count": 3,
   "metadata": {},
   "outputs": [
    {
     "ename": "NameError",
     "evalue": "name 'cursor' is not defined",
     "output_type": "error",
     "traceback": [
      "\u001b[0;31m---------------------------------------------------------------------------\u001b[0m",
      "\u001b[0;31mNameError\u001b[0m                                 Traceback (most recent call last)",
      "\u001b[0;32m<ipython-input-3-c51a86284eef>\u001b[0m in \u001b[0;36m<module>\u001b[0;34m\u001b[0m\n\u001b[1;32m      1\u001b[0m \u001b[0mlist_bizIDs\u001b[0m \u001b[0;34m=\u001b[0m \u001b[0;34m[\u001b[0m\u001b[0;34m]\u001b[0m\u001b[0;34m\u001b[0m\u001b[0;34m\u001b[0m\u001b[0m\n\u001b[0;32m----> 2\u001b[0;31m \u001b[0;32mfor\u001b[0m \u001b[0mhotel\u001b[0m \u001b[0;32min\u001b[0m \u001b[0mcursor\u001b[0m\u001b[0;34m.\u001b[0m\u001b[0mfetchall\u001b[0m\u001b[0;34m(\u001b[0m\u001b[0;34m)\u001b[0m\u001b[0;34m:\u001b[0m\u001b[0;34m\u001b[0m\u001b[0;34m\u001b[0m\u001b[0m\n\u001b[0m\u001b[1;32m      3\u001b[0m     \u001b[0mlist_bizIDs\u001b[0m\u001b[0;34m.\u001b[0m\u001b[0mappend\u001b[0m\u001b[0;34m(\u001b[0m\u001b[0mhotel\u001b[0m\u001b[0;34m[\u001b[0m\u001b[0;36m1\u001b[0m\u001b[0;34m]\u001b[0m\u001b[0;34m)\u001b[0m\u001b[0;34m\u001b[0m\u001b[0;34m\u001b[0m\u001b[0m\n\u001b[1;32m      4\u001b[0m \u001b[0;34m\u001b[0m\u001b[0m\n\u001b[1;32m      5\u001b[0m \u001b[0mlist_bizIDs\u001b[0m\u001b[0;34m\u001b[0m\u001b[0;34m\u001b[0m\u001b[0m\n",
      "\u001b[0;31mNameError\u001b[0m: name 'cursor' is not defined"
     ]
    }
   ],
   "source": [
    "list_bizIDs = []\n",
    "for hotel in cursor.fetchall():\n",
    "    list_bizIDs.append(hotel[1])\n",
    "\n",
    "list_bizIDs"
   ]
  },
  {
   "cell_type": "code",
   "execution_count": 1,
   "metadata": {},
   "outputs": [
    {
     "ename": "NameError",
     "evalue": "name 'list_bizIDs' is not defined",
     "output_type": "error",
     "traceback": [
      "\u001b[0;31m---------------------------------------------------------------------------\u001b[0m",
      "\u001b[0;31mNameError\u001b[0m                                 Traceback (most recent call last)",
      "\u001b[0;32m<ipython-input-1-729c7713d433>\u001b[0m in \u001b[0;36m<module>\u001b[0;34m\u001b[0m\n\u001b[1;32m      5\u001b[0m \u001b[0mcount\u001b[0m \u001b[0;34m=\u001b[0m \u001b[0;36m0\u001b[0m\u001b[0;34m\u001b[0m\u001b[0;34m\u001b[0m\u001b[0m\n\u001b[1;32m      6\u001b[0m \u001b[0mreviews_list\u001b[0m \u001b[0;34m=\u001b[0m \u001b[0;34m[\u001b[0m\u001b[0;34m]\u001b[0m\u001b[0;34m\u001b[0m\u001b[0;34m\u001b[0m\u001b[0m\n\u001b[0;32m----> 7\u001b[0;31m \u001b[0;32mfor\u001b[0m \u001b[0mi_d\u001b[0m \u001b[0;32min\u001b[0m \u001b[0mlist_bizIDs\u001b[0m\u001b[0;34m:\u001b[0m\u001b[0;34m\u001b[0m\u001b[0;34m\u001b[0m\u001b[0m\n\u001b[0m\u001b[1;32m      8\u001b[0m     \u001b[0murl\u001b[0m \u001b[0;34m=\u001b[0m \u001b[0;34m'https://api.yelp.com/v3/businesses/{}/reviews'\u001b[0m\u001b[0;34m.\u001b[0m\u001b[0mformat\u001b[0m\u001b[0;34m(\u001b[0m\u001b[0mi_d\u001b[0m\u001b[0;34m)\u001b[0m\u001b[0;34m\u001b[0m\u001b[0;34m\u001b[0m\u001b[0m\n\u001b[1;32m      9\u001b[0m     \u001b[0mheaders\u001b[0m \u001b[0;34m=\u001b[0m \u001b[0;34m{\u001b[0m\u001b[0;34m'Authorization'\u001b[0m\u001b[0;34m:\u001b[0m \u001b[0;34m'Bearer {}'\u001b[0m\u001b[0;34m.\u001b[0m\u001b[0mformat\u001b[0m\u001b[0;34m(\u001b[0m\u001b[0mapi_key\u001b[0m\u001b[0;34m)\u001b[0m\u001b[0;34m}\u001b[0m\u001b[0;34m\u001b[0m\u001b[0;34m\u001b[0m\u001b[0m\n",
      "\u001b[0;31mNameError\u001b[0m: name 'list_bizIDs' is not defined"
     ]
    }
   ],
   "source": [
    "# write a function that takes a business id \n",
    "# and makes a call to the API for reivews\n",
    "\n",
    "# def yelp_call_reviews(api_key):\n",
    "count = 0\n",
    "reviews_list = []\n",
    "for i_d in list_bizIDs:\n",
    "    url = 'https://api.yelp.com/v3/businesses/{}/reviews'.format(i_d)\n",
    "    headers = {'Authorization': 'Bearer {}'.format(api_key)}\n",
    "    response = requests.get(url, headers=headers)\n",
    "    reviewz_data = response.json()['reviews']\n",
    "    for rev in reviewz_data:\n",
    "        rev['business_id'] = i_d\n",
    "    reviews_list.append(reviewz_data)\n",
    "    count += 1\n",
    "    print(f\"The {count} iteration was successful. Hotel ID: {i_d}\")\n",
    "#     return review_data"
   ]
  },
  {
   "cell_type": "code",
   "execution_count": 34,
   "metadata": {},
   "outputs": [
    {
     "data": {
      "text/plain": [
       "{'id': 'SBMmCYTJfQSV4xL8ubnjVw',\n",
       " 'url': 'https://www.yelp.com/biz/the-gotham-hotel-new-york?adjust_creative=UPf5tdRgr65dzjOVrAbSnQ&hrid=SBMmCYTJfQSV4xL8ubnjVw&utm_campaign=yelp_api_v3&utm_medium=api_v3_business_reviews&utm_source=UPf5tdRgr65dzjOVrAbSnQ',\n",
       " 'text': 'Pros: the hotel has a great location in walking distance to Times Square, Lincoln Center, Rockefeller Plaza and Grand Central. The staff was friendly but...',\n",
       " 'rating': 3,\n",
       " 'time_created': '2019-04-22 09:07:42',\n",
       " 'user': {'id': 'xePXJUbxy0K0SikICggC5g',\n",
       "  'profile_url': 'https://www.yelp.com/user_details?userid=xePXJUbxy0K0SikICggC5g',\n",
       "  'image_url': 'https://s3-media2.fl.yelpcdn.com/photo/lVlRGSp-YdD8HlU_PR1OwQ/o.jpg',\n",
       "  'name': 'Mary F.'},\n",
       " 'business_id': '_vteB78WnOiuOOQT_38X8w'}"
      ]
     },
     "execution_count": 34,
     "metadata": {},
     "output_type": "execute_result"
    }
   ],
   "source": [
    "reviewz_data[-1]"
   ]
  },
  {
   "cell_type": "code",
   "execution_count": 36,
   "metadata": {},
   "outputs": [
    {
     "name": "stdout",
     "output_type": "stream",
     "text": [
      "{'review_id': 'SBMmCYTJfQSV4xL8ubnjVw', 'review_text': 'Pros: the hotel has a great location in walking distance to Times Square, Lincoln Center, Rockefeller Plaza and Grand Central. The staff was friendly but...', 'business_id': '_vteB78WnOiuOOQT_38X8w'}\n",
      "2272\n"
     ]
    }
   ],
   "source": [
    "# Write a function to parse out the relevant information from the reviews\n",
    "\n",
    "parsed_reviews = []\n",
    "for reviews in reviews_list:\n",
    "    for review in reviews:\n",
    "        review_data = {}\n",
    "        review_data['review_id'] = review['id'] \n",
    "        review_data['review_text'] = review['text']\n",
    "        review_data['business_id'] = review['business_id']\n",
    "        parsed_reviews.append(review_data)\n",
    "print(parsed_reviews[-1])\n",
    "print(len(parsed_reviews))"
   ]
  },
  {
   "cell_type": "code",
   "execution_count": 37,
   "metadata": {},
   "outputs": [],
   "source": [
    "# write a function to insert the parsed data into the reviews table\n",
    "# def reviews_insert(parsed_reviews):\n",
    "cnx = mysql.connector.connect(\n",
    "        host = config.host,\n",
    "        user = config.user,\n",
    "        password = config.password,\n",
    "        database = db_name\n",
    ")\n",
    "cursor = cnx.cursor()\n",
    "reviews = []\n",
    "for review in parsed_reviews:\n",
    "    reviews_tuple =(review['review_id'], review['review_text'], review['business_id'])\n",
    "    reviews.append(reviews_tuple)\n",
    "\n",
    "insert_query = \"\"\"\n",
    "INSERT INTO reviews (review_id, review_text, business_id) VALUES (%s, %s, %s)\n",
    "\"\"\"\n",
    "\n",
    "cursor.executemany(insert_query, reviews)\n",
    "cnx.commit()\n",
    "cnx.close()"
   ]
  },
  {
   "cell_type": "code",
   "execution_count": null,
   "metadata": {},
   "outputs": [],
   "source": [
    "# combine the functions above into a single script  "
   ]
  },
  {
   "cell_type": "markdown",
   "metadata": {},
   "source": [
    "## Part 4: Write SQL queries that will answer the questions posed. "
   ]
  },
  {
   "cell_type": "code",
   "execution_count": 38,
   "metadata": {},
   "outputs": [],
   "source": [
    "# create connection\n",
    "cnx = mysql.connector.connect(\n",
    "        host = config.host,\n",
    "        user = config.user,\n",
    "        password = config.password,\n",
    "        database = db_name\n",
    ")\n",
    "cursor = cnx.cursor()"
   ]
  },
  {
   "cell_type": "code",
   "execution_count": null,
   "metadata": {},
   "outputs": [],
   "source": [
    "# execute SQL queries"
   ]
  },
  {
   "cell_type": "code",
   "execution_count": 44,
   "metadata": {},
   "outputs": [
    {
     "data": {
      "text/plain": [
       "[('Hotel Pennsylvania', 1418),\n",
       " ('Hotel Chantelle', 1296),\n",
       " ('Hudson Hotel - Central Park', 1251),\n",
       " ('YOTEL New York', 1194),\n",
       " ('New York Marriott Marquis', 954)]"
      ]
     },
     "execution_count": 44,
     "metadata": {},
     "output_type": "execute_result"
    }
   ],
   "source": [
    "# Which are the 5 most reviewed businesses?\n",
    "cnx = mysql.connector.connect(\n",
    "        host = config.host,\n",
    "        user = config.user,\n",
    "        password = config.password,\n",
    "        database = db_name\n",
    ")\n",
    "cursor = cnx.cursor()\n",
    "\n",
    "cursor.execute(\"\"\"\n",
    "SELECT\n",
    "    name,\n",
    "    review_count\n",
    "FROM\n",
    "    yelp_reviews.hotels\n",
    "ORDER BY\n",
    "    review_count DESC\n",
    "LIMIT\n",
    "    5\n",
    ";\n",
    "\"\"\")\n",
    "cursor.fetchall()"
   ]
  },
  {
   "cell_type": "code",
   "execution_count": 48,
   "metadata": {},
   "outputs": [
    {
     "data": {
      "text/plain": [
       "[('Hotel Mimosa', 5.0, 20),\n",
       " ('The Harlem Flop House', 5.0, 13),\n",
       " ('The Lafayette House', 5.0, 7),\n",
       " ('Adventure Hostels JFK', 5.0, 1),\n",
       " ('AVE Clifton', 5.0, 4),\n",
       " ('W Hotels - The Store', 5.0, 1)]"
      ]
     },
     "execution_count": 48,
     "metadata": {},
     "output_type": "execute_result"
    }
   ],
   "source": [
    "# What is the highest rating recieved in your data set and how many businesses have that rating?\n",
    "\n",
    "cnx = mysql.connector.connect(\n",
    "        host = config.host,\n",
    "        user = config.user,\n",
    "        password = config.password,\n",
    "        database = db_name\n",
    ")\n",
    "cursor = cnx.cursor()\n",
    "cursor.execute(\"\"\"\n",
    "SELECT\n",
    "    name,\n",
    "    rating,\n",
    "    review_count\n",
    "FROM\n",
    "    yelp_reviews.hotels\n",
    "WHERE\n",
    "    rating = (\n",
    "        SELECT\n",
    "            MAX(rating)\n",
    "        FROM\n",
    "            yelp_reviews.hotels\n",
    "    )\n",
    ";\n",
    "\"\"\")\n",
    "cursor.fetchall()"
   ]
  },
  {
   "cell_type": "code",
   "execution_count": 52,
   "metadata": {},
   "outputs": [
    {
     "data": {
      "text/plain": [
       "[('I stayed here during the US Open in 2018.\\n\\nI got to the front desk after a red-eye coast-to-coast flight and a hired car from Newark at my stated check-in...',),\n",
       " ('Have you ever woken up from a horrible nightmare, taken a deep breath, opened your eyes, and realized to your great dismay that, \"the nightmare is reality....',),\n",
       " (\"I always start with the good. This hotel just went through a significant renovation to their rooms and they did a great job. It's an old hotel, but I love...\",)]"
      ]
     },
     "execution_count": 52,
     "metadata": {},
     "output_type": "execute_result"
    }
   ],
   "source": [
    "# Return the text of the reviews for the most reviewed restaurant.\n",
    "\n",
    "cnx = mysql.connector.connect(\n",
    "        host = config.host,\n",
    "        user = config.user,\n",
    "        password = config.password,\n",
    "        database = db_name\n",
    ")\n",
    "cursor = cnx.cursor()\n",
    "cursor.execute(\"\"\"\n",
    "SELECT\n",
    "    review_text\n",
    "FROM\n",
    "    yelp_reviews.hotels h\n",
    "JOIN\n",
    "    yelp_reviews.reviews r\n",
    "ON\n",
    "    h.business_id = r.business_id\n",
    "WHERE\n",
    "    review_count = (\n",
    "        SELECT\n",
    "            MAX(review_count)\n",
    "        FROM\n",
    "            yelp_reviews.hotels\n",
    "    )\n",
    ";\n",
    "\"\"\")\n",
    "cursor.fetchall()"
   ]
  },
  {
   "cell_type": "markdown",
   "metadata": {},
   "source": [
    "# Extra Reference help"
   ]
  },
  {
   "cell_type": "markdown",
   "metadata": {},
   "source": [
    "###  Pagination\n",
    "\n",
    "Returning to the Yelp API, the [documentation](https://www.yelp.com/developers/documentation/v3/business_search) also provides us details regarding the API limits. These often include details about the number of requests a user is allowed to make within a specified time limit and the maximum number of results to be returned. In this case, we are told that any request has a maximum of 50 results per request and defaults to 20. Furthermore, any search will be limited to a total of 1000 results. To retrieve all 1000 of these results, we would have to page through the results piece by piece, retriving 50 at a time. Processes such as these are often refered to as pagination.\n",
    "\n",
    "Now that you have an initial response, you can examine the contents of the json container. For example, you might start with ```response.json().keys()```. Here, you'll see a key for `'total'`, which tells you the full number of matching results given your query parameters. Write a loop (or ideally a function) which then makes successive API calls using the offset parameter to retrieve all of the results (or 5000 for a particularly large result set) for the original query. As you do this, be mindful of how you store the data. \n",
    "\n",
    "**Note: be mindful of the API rate limits. You can only make 5000 requests per day, and APIs can make requests too fast. Start prototyping small before running a loop that could be faulty. You can also use time.sleep(n) to add delays. For more details see https://www.yelp.com/developers/documentation/v3/rate_limiting.**"
   ]
  },
  {
   "cell_type": "markdown",
   "metadata": {},
   "source": [
    "***Below is sample code that you can use to help you deal with the pagination parameter and bring all of the functions together.***\n",
    "\n",
    "\n",
    "***Also, something might cause your code to break while it is running. You don't want to constantly repull the same data when this happens, so you should insert the data into the database as you call and parse it, not after you have all of the data***\n"
   ]
  },
  {
   "cell_type": "code",
   "execution_count": null,
   "metadata": {},
   "outputs": [],
   "source": [
    "def yelp_call(url_params, api_key):\n",
    "    url = 'https://api.yelp.com/v3/businesses/search'\n",
    "    headers = {'Authorization': 'Bearer {}'.format(api_key)}\n",
    "    response = requests.get(url, headers=headers, params=url_params)\n",
    "    \n",
    "    data = response.json()['businesses']\n",
    "    return data"
   ]
  },
  {
   "cell_type": "code",
   "execution_count": null,
   "metadata": {},
   "outputs": [],
   "source": [
    "def parse_results(results):\n",
    "    \n",
    "    return parsed_results"
   ]
  },
  {
   "cell_type": "code",
   "execution_count": null,
   "metadata": {},
   "outputs": [],
   "source": [
    "# Your code here; use a function or loop to retrieve all the results from your original request\n",
    "import time\n",
    "\n",
    "\n",
    "\n",
    "def all_results(url_params, api_key):\n",
    "    num = response.json()['total']\n",
    "    print('{} total matches found.'.format(num))\n",
    "    cur = 0\n",
    "    \n",
    "    while cur < num and cur < 1000:\n",
    "        url_params['offset'] = cur\n",
    "        results = yelp_call(url_params, api_key)\n",
    "        parsed_results = parse_results(results)\n",
    "        db_insert(parsed)\n",
    "        time.sleep() #Wait a second\n",
    "        cur += 50\n",
    "\n",
    "term = 'pizza'\n",
    "location = 'Astoria NY'\n",
    "url_params = {  'term': term.replace(' ', '+'),\n",
    "                'location': location.replace(' ', '+'),\n",
    "                'limit' : 50\n",
    "             }\n",
    "df = all_results(url_params, api_key)\n",
    "print(len(df))\n",
    "df.head()"
   ]
  },
  {
   "cell_type": "markdown",
   "metadata": {},
   "source": [
    "### Sample SQL Query \n",
    "\n",
    "Below is a SQL query to create a table.  Additionally here is a link to create a table with a foreign key.\n",
    "\n",
    "http://www.mysqltutorial.org/mysql-foreign-key/\n",
    "\n",
    "```CREATE TABLE IF NOT EXISTS tasks (\n",
    "    task_id INT AUTO_INCREMENT,\n",
    "    title VARCHAR(255) NOT NULL,\n",
    "    start_date DATE,\n",
    "    due_date DATE,\n",
    "    status TINYINT NOT NULL,\n",
    "    priority TINYINT NOT NULL,\n",
    "    description TEXT,\n",
    "    PRIMARY KEY (task_id)\n",
    ")  ENGINE=INNODB;```"
   ]
  },
  {
   "cell_type": "markdown",
   "metadata": {},
   "source": [
    "### Using DB:\n",
    "    \n",
    "For this lab, you can either store the data on one DB or put in on both of the partners DBs. If you decide to put it on one DB, you want to make sure both partners have access to it.  To do this you want to add a user to your DB.  \n",
    "\n",
    "[how to add a new user](https://howchoo.com/g/mtm3zdq2nzv/how-to-add-a-mysql-user-and-grant-privileges)"
   ]
  },
  {
   "cell_type": "code",
   "execution_count": null,
   "metadata": {},
   "outputs": [],
   "source": [
    "# Which are the 5 most reviewed businesses?\n",
    "cursor.execute()"
   ]
  },
  {
   "cell_type": "code",
   "execution_count": null,
   "metadata": {},
   "outputs": [],
   "source": []
  }
 ],
 "metadata": {
  "kernelspec": {
   "display_name": "Python 3",
   "language": "python",
   "name": "python3"
  },
  "language_info": {
   "codemirror_mode": {
    "name": "ipython",
    "version": 3
   },
   "file_extension": ".py",
   "mimetype": "text/x-python",
   "name": "python",
   "nbconvert_exporter": "python",
   "pygments_lexer": "ipython3",
   "version": "3.7.3"
  },
  "toc": {
   "base_numbering": 1,
   "nav_menu": {},
   "number_sections": false,
   "sideBar": true,
   "skip_h1_title": false,
   "title_cell": "Table of Contents",
   "title_sidebar": "Contents",
   "toc_cell": false,
   "toc_position": {},
   "toc_section_display": true,
   "toc_window_display": false
  }
 },
 "nbformat": 4,
 "nbformat_minor": 2
}
