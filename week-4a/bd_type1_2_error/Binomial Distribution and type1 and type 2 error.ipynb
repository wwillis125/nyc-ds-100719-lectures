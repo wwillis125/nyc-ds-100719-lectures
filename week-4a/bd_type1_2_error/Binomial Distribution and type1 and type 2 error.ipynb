{
 "cells": [
  {
   "cell_type": "code",
   "execution_count": 1,
   "metadata": {},
   "outputs": [],
   "source": [
    "from scipy import stats\n",
    "from matplotlib import pyplot as plt\n",
    "import numpy as np"
   ]
  },
  {
   "cell_type": "markdown",
   "metadata": {},
   "source": [
    "### The Binomial Distribution\n",
    "\n",
    "The binomial distribution applies when I have a process that has only two outcomes. Suppose some baseball team has a 70% chance of winning any game that it plays. The binomial distribution can tell me what the probability is that the team win exactly $k$ out of $n$ games ($k < n$).\n",
    "\n",
    "$\\Large f(x) = {n \\choose k}p^k(1 - p)^{n - k}$\n",
    "\n",
    "Note: ${n\\choose k} = \\frac{n!}{k!(n - k)!}$, the number of ways of choosing $k$ objects from a total of $n$."
   ]
  },
  {
   "cell_type": "markdown",
   "metadata": {},
   "source": [
    "We can use the scipy.stats module to make quick statistical calculations!"
   ]
  },
  {
   "cell_type": "code",
   "execution_count": 2,
   "metadata": {},
   "outputs": [
    {
     "data": {
      "text/plain": [
       "<scipy.stats._discrete_distns.binom_gen at 0x181beb6ef0>"
      ]
     },
     "execution_count": 2,
     "metadata": {},
     "output_type": "execute_result"
    }
   ],
   "source": [
    "stats.binom"
   ]
  },
  {
   "cell_type": "code",
   "execution_count": 3,
   "metadata": {},
   "outputs": [
    {
     "data": {
      "text/plain": [
       "0.01766200732547356"
      ]
     },
     "execution_count": 3,
     "metadata": {},
     "output_type": "execute_result"
    }
   ],
   "source": [
    "# Suppose I flip a fair coin 300 times. What are the chances that I get exactly 162 heads?\n",
    "\n",
    "stats.binom.pmf(162, 300, 0.5)"
   ]
  },
  {
   "cell_type": "code",
   "execution_count": 4,
   "metadata": {},
   "outputs": [
    {
     "data": {
      "text/plain": [
       "1.5732132722552274"
      ]
     },
     "execution_count": 4,
     "metadata": {},
     "output_type": "execute_result"
    }
   ],
   "source": [
    "# What is the standard deviation of a binomial distribution of 10 repeated trials,\n",
    "# where each trial has a probability of success of 45%?\n",
    "\n",
    "stats.binom.std(10, 0.45)"
   ]
  },
  {
   "cell_type": "code",
   "execution_count": 5,
   "metadata": {},
   "outputs": [
    {
     "data": {
      "text/plain": [
       "(446.0, 455.0)"
      ]
     },
     "execution_count": 5,
     "metadata": {},
     "output_type": "execute_result"
    }
   ],
   "source": [
    "# For a binomial variable representing 500 repeated trials,\n",
    "# where each has a probability of success of 90%,\n",
    "# what interval will contain 50% of my distribution?\n",
    "\n",
    "stats.binom.interval(0.5, 500, 0.9)"
   ]
  },
  {
   "cell_type": "code",
   "execution_count": 6,
   "metadata": {},
   "outputs": [
    {
     "data": {
      "image/png": "[encoded data removed]",
      "text/plain": [
       "<Figure size 432x432 with 1 Axes>"
      ]
     },
     "metadata": {
      "needs_background": "light"
     },
     "output_type": "display_data"
    }
   ],
   "source": [
    "n = 500\n",
    "p = 0.95\n",
    "fig, ax = plt.subplots(1, 1, figsize=(6, 6))\n",
    "x = np.arange(stats.binom.ppf(0.01, n, p),\n",
    "              stats.binom.ppf(0.99, n, p))\n",
    "\n",
    "ax.plot(x, stats.binom.pmf(x, n, p), 'bo', ms=8, label='binom pmf')\n",
    "ax.vlines(x, 0, stats.binom.pmf(x, n, p), 'r', linewidth=5,\n",
    "          label='pmf')\n",
    "ax.legend(loc='best')\n",
    "plt.show()"
   ]
  },
  {
   "cell_type": "markdown",
   "metadata": {},
   "source": [
    "# Type I and Type II Errors"
   ]
  },
  {
   "cell_type": "markdown",
   "metadata": {},
   "source": [
    "<img src=\"type1_2_error.jpg\">"
   ]
  },
  {
   "cell_type": "markdown",
   "metadata": {},
   "source": [
    "#### Question 1"
   ]
  },
  {
   "cell_type": "markdown",
   "metadata": {},
   "source": [
    "A nationwide poll showed an unemployment rate of 9% in the US. The Mayor of a local town wonders if this national result holds true for her town, so she plans on taking a sample of her residents to see if the unemployment rate is significantly different than 9% in her town.\n",
    "\n",
    "Let p represent the unemployment rate in her town. Here are the hypotheses she’ll use:\n",
    "\n",
    "H0: p = 0.09\n",
    "H1: p != 0.09\n",
    "\n",
    "Under which of the following conditions would the mayor commit a Type I Error?\n",
    "\n",
    "- She concludes the town’s unemployment rate is not 9% when it actually is.\n",
    "- She concludes the town’s unemployment rate is not 9% when it actually is not.\n",
    "- She concludes the town’s unemployment rate is 9% when it actually is.\n",
    "- She concludes the town’s unemployment rate is 9% when it actually is not.\n"
   ]
  },
  {
   "cell_type": "markdown",
   "metadata": {},
   "source": [
    "#### Question 2"
   ]
  },
  {
   "cell_type": "markdown",
   "metadata": {},
   "source": [
    "A school is considering building another cafeteria. They plan to survey a sample of their students to see if the proportion interested in a meal plan is higher than 40%, in which case they will consider building a new cafeteria. \n",
    "\n",
    "Let p represent the proportion of students interested in a meal plan.  Here are the hypotheses they’ll use:\n",
    "\n",
    "H0: p < 0.40\n",
    "H1: p >= 0.40\n",
    "\n",
    "What would be the consequence of a Type II error (failing to reject H0, even though it is false) in this context?\n",
    "\n",
    "- They don’t consider building the new cafeteria when they should.\n",
    "- They don’t consider building the new cafeteria when they shouldn’t.\n",
    "- They consider building a new cafeteria when they shouldn’t.\n",
    "- They consider building a new cafeteria when they should."
   ]
  },
  {
   "cell_type": "code",
   "execution_count": null,
   "metadata": {},
   "outputs": [],
   "source": []
  }
 ],
 "metadata": {
  "kernelspec": {
   "display_name": "Python 3",
   "language": "python",
   "name": "python3"
  },
  "language_info": {
   "codemirror_mode": {
    "name": "ipython",
    "version": 3
   },
   "file_extension": ".py",
   "mimetype": "text/x-python",
   "name": "python",
   "nbconvert_exporter": "python",
   "pygments_lexer": "ipython3",
   "version": "3.7.3"
  }
 },
 "nbformat": 4,
 "nbformat_minor": 2
}
