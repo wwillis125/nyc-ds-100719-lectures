{
 "cells": [
  {
   "cell_type": "markdown",
   "metadata": {
    "slideshow": {
     "slide_type": "slide"
    }
   },
   "source": [
    "## Permutations, Combinations, Conditional Probability and Partitioning Complex Events\n",
    "\n"
   ]
  },
  {
   "cell_type": "markdown",
   "metadata": {
    "slideshow": {
     "slide_type": "slide"
    }
   },
   "source": [
    "## What's the difference between a permutation and a combination?"
   ]
  },
  {
   "cell_type": "markdown",
   "metadata": {
    "slideshow": {
     "slide_type": "slide"
    }
   },
   "source": [
    "## How many permutations are there for a standard padlock?\n",
    "> Hint: (there are 40 numbers on a padlock and use 3 numbers.)"
   ]
  },
  {
   "cell_type": "markdown",
   "metadata": {
    "slideshow": {
     "slide_type": "slide"
    }
   },
   "source": [
    "## How many unique 3 topping pizzas can you make from the following ingredients:\n",
    "    * Mushrooms\n",
    "    * Pepperoni\n",
    "    * Onion\n",
    "    * Peppers\n",
    "    * Ham\n",
    "    * Pineapple\n",
    "    * Sausage\n",
    "    * Olives\n",
    "    \n",
    "> Fun question: which is the worst?"
   ]
  },
  {
   "cell_type": "markdown",
   "metadata": {
    "slideshow": {
     "slide_type": "slide"
    }
   },
   "source": [
    "## Explaining the Intuition Behind Combinations\n",
    "\n",
    "\n",
    "How would you compute the number of 3-topping combinations from the ingredients above by hand? Explain the rational behind your computations."
   ]
  },
  {
   "cell_type": "markdown",
   "metadata": {
    "slideshow": {
     "slide_type": "slide"
    }
   },
   "source": [
    "## Conditional Probability\n",
    "\n",
    "### When do we compute conditional probabilities? "
   ]
  },
  {
   "cell_type": "markdown",
   "metadata": {
    "slideshow": {
     "slide_type": "slide"
    }
   },
   "source": [
    "### Mushroom dataset\n",
    "\n",
    "To discuss conditional probability, let's look at a modified version of the Mushroom dataset from UCI [here](https://archive.ics.uci.edu/ml/datasets/Mushroom). Each row in this dataset corresponds to one observation (one mushroom). \n",
    "\n",
    "The modified dataset includes 4 variables:\n",
    "\n",
    "* **edible-poisonous**\n",
    "    * This categorical variable can have one of two values: if the mushroom is edible, \"edible\". If not, \"poisonous\"\n",
    "\n",
    "* **bruised**\n",
    "    * This is a Boolean variable that can assume either one of two values, True or False.\n",
    "\n",
    "* **gill-spacing**\n",
    "    * This categorical variable can have one of three values: \"close\", \"crowded\", or \"distant\"\n",
    "    \n",
    "* **stalk-shape**\n",
    "    * This categorical variable can have one of two values: \"enlarging\" or \"tapering\"\n",
    "* **stalk-color-above-ring**\n",
    "    * This categorical variable can have one of nine values:  \"brown\",\"buff\",\"cinnamon\",\"gray\",\"orange\", \"pink\",\"red\",\"white\" or \"yellow\"\n",
    "\n",
    "* **stalk-color-below-ring**\n",
    "    * This categorical variable can have one of nine values:  \"brown\",\"buff\",\"cinnamon\",\"gray\",\"orange\", \"pink\",\"red\",\"white\" or \"yellow\"\n",
    "\n",
    "* **gill-color**\n",
    "    * This categorical variable can have one of twelve values: \"black\",\"brown\",\"buff\",\"chocolate\",\"gray\", \"green\",\"orange\",\"pink\",\"purple\",\"red\", \"white\" or \"yellow\" \n",
    "\n"
   ]
  },
  {
   "cell_type": "code",
   "execution_count": 1,
   "metadata": {
    "slideshow": {
     "slide_type": "slide"
    }
   },
   "outputs": [
    {
     "data": {
      "text/html": [
       "<div>\n",
       "<style scoped>\n",
       "    .dataframe tbody tr th:only-of-type {\n",
       "        vertical-align: middle;\n",
       "    }\n",
       "\n",
       "    .dataframe tbody tr th {\n",
       "        vertical-align: top;\n",
       "    }\n",
       "\n",
       "    .dataframe thead th {\n",
       "        text-align: right;\n",
       "    }\n",
       "</style>\n",
       "<table border=\"1\" class=\"dataframe\">\n",
       "  <thead>\n",
       "    <tr style=\"text-align: right;\">\n",
       "      <th></th>\n",
       "      <th>edible-poisonous</th>\n",
       "      <th>gill-spacing</th>\n",
       "      <th>stalk-shape</th>\n",
       "      <th>stalk-color-above-ring</th>\n",
       "      <th>stalk-color-below-ring</th>\n",
       "      <th>gill-color</th>\n",
       "      <th>bruised</th>\n",
       "    </tr>\n",
       "  </thead>\n",
       "  <tbody>\n",
       "    <tr>\n",
       "      <th>0</th>\n",
       "      <td>poisonous</td>\n",
       "      <td>close</td>\n",
       "      <td>enlarging</td>\n",
       "      <td>white</td>\n",
       "      <td>white</td>\n",
       "      <td>black</td>\n",
       "      <td>True</td>\n",
       "    </tr>\n",
       "    <tr>\n",
       "      <th>1</th>\n",
       "      <td>edible</td>\n",
       "      <td>close</td>\n",
       "      <td>enlarging</td>\n",
       "      <td>white</td>\n",
       "      <td>white</td>\n",
       "      <td>black</td>\n",
       "      <td>True</td>\n",
       "    </tr>\n",
       "    <tr>\n",
       "      <th>2</th>\n",
       "      <td>edible</td>\n",
       "      <td>close</td>\n",
       "      <td>enlarging</td>\n",
       "      <td>white</td>\n",
       "      <td>white</td>\n",
       "      <td>brown</td>\n",
       "      <td>True</td>\n",
       "    </tr>\n",
       "    <tr>\n",
       "      <th>3</th>\n",
       "      <td>poisonous</td>\n",
       "      <td>close</td>\n",
       "      <td>enlarging</td>\n",
       "      <td>white</td>\n",
       "      <td>white</td>\n",
       "      <td>brown</td>\n",
       "      <td>True</td>\n",
       "    </tr>\n",
       "    <tr>\n",
       "      <th>4</th>\n",
       "      <td>edible</td>\n",
       "      <td>crowded</td>\n",
       "      <td>tapering</td>\n",
       "      <td>white</td>\n",
       "      <td>white</td>\n",
       "      <td>black</td>\n",
       "      <td>False</td>\n",
       "    </tr>\n",
       "  </tbody>\n",
       "</table>\n",
       "</div>"
      ],
      "text/plain": [
       "  edible-poisonous gill-spacing stalk-shape stalk-color-above-ring  \\\n",
       "0        poisonous        close   enlarging                  white   \n",
       "1           edible        close   enlarging                  white   \n",
       "2           edible        close   enlarging                  white   \n",
       "3        poisonous        close   enlarging                  white   \n",
       "4           edible      crowded    tapering                  white   \n",
       "\n",
       "  stalk-color-below-ring gill-color  bruised  \n",
       "0                  white      black     True  \n",
       "1                  white      black     True  \n",
       "2                  white      brown     True  \n",
       "3                  white      brown     True  \n",
       "4                  white      black    False  "
      ]
     },
     "execution_count": 1,
     "metadata": {},
     "output_type": "execute_result"
    }
   ],
   "source": [
    "import pandas as pd\n",
    "\n",
    "df = pd.read_csv('Mushrooms_cleaned.csv')\n",
    "df.head()"
   ]
  },
  {
   "cell_type": "markdown",
   "metadata": {
    "slideshow": {
     "slide_type": "slide"
    }
   },
   "source": [
    "#### If you picked a row from this dataset at random, what is the probability it corresponds to a bruised mushroom? "
   ]
  },
  {
   "cell_type": "markdown",
   "metadata": {
    "slideshow": {
     "slide_type": "slide"
    }
   },
   "source": [
    "#### What is the probability you pick a row corresponding to a mushroom that is bruised _AND_ edible? "
   ]
  },
  {
   "cell_type": "markdown",
   "metadata": {
    "slideshow": {
     "slide_type": "slide"
    }
   },
   "source": [
    "#### What is the probability of picking an edible mushroom given it is bruised, $P(edible|bruised)$? "
   ]
  },
  {
   "cell_type": "markdown",
   "metadata": {
    "slideshow": {
     "slide_type": "slide"
    }
   },
   "source": [
    "#### What is the probability of picking a bruised mushroom given it is edible, $P(\\text{bruised | edible})$? "
   ]
  },
  {
   "cell_type": "markdown",
   "metadata": {
    "slideshow": {
     "slide_type": "slide"
    }
   },
   "source": [
    "### Intuition behind conditional probability: \n",
    "\n",
    "How do you compute the probability that mushrooms are edible given they are bruised? \n",
    "\n",
    "When you ask the question \"what is the probability that the mushrooms are edible and bruised?\", the sample space originally contains all 8124 rows of mushrooms. \n",
    "\n",
    "<img src=\"images/Image_72_Cond4.png\" width=\"300\">\n",
    "\n",
    "However, to compute the probability that the mushrooms are edible given they are bruised, you need to consider the reduced size of the sample space. \n",
    "\n",
    "In the image above, S is the universe of all mushrooms in the dataset, A is the set of mushrooms that are edible, and B is the set of mushrooms that are bruised.\n",
    "\n",
    "* When you ask the question \"what is the probability that the mushrooms are edible given the mushrooms are bruised?\", you have effectively reduced the size of the sample space to include only those mushrooms that are bruised. \n",
    "\n",
    "* Given that mushrooms are bruised, the only way for the mushrooms to be edible is for these mushrooms to fall in the intersection of the set of mushrooms that are edible _and_ the set of mushrooms that are bruised , $P(edible \\cap bruised)$.  \n",
    "\n",
    "* To account for the smaller sample space, you divide the probability mushrooms are edible and bruised by the probability the mushrooms are bruised: $$\\large P(edible|bruised) = \\frac{P(edible \\cap bruised)}{P(bruised)}$$\n",
    "\n",
    "\n"
   ]
  },
  {
   "cell_type": "markdown",
   "metadata": {
    "slideshow": {
     "slide_type": "slide"
    }
   },
   "source": [
    "## Partitioning Complex Events\n",
    "\n",
    "You're not really a mushroom expert, but you can see a bunch of orange spots all over the mushroom in your hand. Given the data at your disposal, what's the probability that the mushroom is edible?\n",
    "\n"
   ]
  },
  {
   "cell_type": "markdown",
   "metadata": {
    "slideshow": {
     "slide_type": "slide"
    }
   },
   "source": [
    "## Summary\n",
    "\n",
    "\n",
    "In this lesson, you reviewed 4 major foundational concepts for probability: permutations, combinations, conditional probability and partitioning complex events. Remember that your standard padlock should be more accurately called a permutation lock! Order matters for permutations, whereas only the members of the set are important for combinations. Conditional probability investigates the odds of an event occurring given other information. In these instances, the universal set of possibilities reflects the given information. In the mushroom example, the probability of a mushroom being edible given that it is bruised can be computed by dividing the probability that it a mushroom is both edible AND bruised, by the probability that it is bruised. Mathematically: $$\\large P(edible|bruised) = \\frac{P(edible \\cap bruised)}{P(bruised)}$$. Finally, you investigated partitioning complex events. Often, complex events can be broken into constituent parts, and the total probability can be calculated by combining these smaller events."
   ]
  },
  {
   "cell_type": "markdown",
   "metadata": {
    "slideshow": {
     "slide_type": "slide"
    }
   },
   "source": [
    "## Additional Resources"
   ]
  },
  {
   "cell_type": "markdown",
   "metadata": {
    "slideshow": {
     "slide_type": "slide"
    }
   },
   "source": [
    "## Challenge Problem\n",
    "\n",
    "Let's take some time and review questions like those from the [dsc-law-of-total-probability-lab](https://github.com/learn-co-curriculum/dsc-law-of-total-probability-lab).  \n",
    "\n",
    "According to the CDC, [14% of Americans currently smoke, 15.8% of males and 12.2% of females](https://www.cdc.gov/tobacco/data_statistics/fact_sheets/adult_data/cig_smoking/index.htm). According the the American Lung Association, [men who smoke are 23 times more likely to smoke then never-smokers, and women are 13 times as likely](https://www.lung.org/lung-health-and-diseases/lung-disease-lookup/lung-cancer/resource-library/lung-cancer-fact-sheet.html). The American Cancer Society estimates that [the lifetime risk of developing lung cancer is 6.85% for males and 5.95% for females](https://www.cancer.org/cancer/cancer-basics/lifetime-probability-of-developing-or-dying-from-cancer.html). Currently, the census estimates that [women are 50.8% of the population](https://www.census.gov/quickfacts/fact/table/US/PST045218). \n",
    "\n",
    "What is the risk of lung cancer for non-smokers? Non-smoker males? Non-smoker females?\n",
    "\n",
    "> To learn more about lung-cancer risks for non-smokers, see https://www.cancer.org/latest-news/why-lung-cancer-strikes-nonsmokers.html."
   ]
  },
  {
   "cell_type": "markdown",
   "metadata": {
    "slideshow": {
     "slide_type": "slide"
    }
   },
   "source": [
    "## Additional Conditional Probability Practice\n",
    "\n",
    "What's the probability that a mushroom is poisonous if it has close gill spacing and a tapering stalk?\n",
    "\n",
    "$$\\large P(edible|close \\cap tapering) = \\frac{P(edible \\cap close \\cap tapering)}{P(close \\cap tapering)}$$"
   ]
  },
  {
   "cell_type": "code",
   "execution_count": null,
   "metadata": {},
   "outputs": [],
   "source": []
  }
 ],
 "metadata": {
  "celltoolbar": "Slideshow",
  "kernelspec": {
   "display_name": "Python 3",
   "language": "python",
   "name": "python3"
  },
  "language_info": {
   "codemirror_mode": {
    "name": "ipython",
    "version": 3
   },
   "file_extension": ".py",
   "mimetype": "text/x-python",
   "name": "python",
   "nbconvert_exporter": "python",
   "pygments_lexer": "ipython3",
   "version": "3.7.3"
  },
  "toc": {
   "base_numbering": 1,
   "nav_menu": {},
   "number_sections": true,
   "sideBar": true,
   "skip_h1_title": false,
   "title_cell": "Table of Contents",
   "title_sidebar": "Contents",
   "toc_cell": false,
   "toc_position": {},
   "toc_section_display": true,
   "toc_window_display": false
  }
 },
 "nbformat": 4,
 "nbformat_minor": 2
}
