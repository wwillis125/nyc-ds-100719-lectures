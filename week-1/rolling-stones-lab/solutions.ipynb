{
 "cells": [
  {
   "cell_type": "markdown",
   "metadata": {},
   "source": [
    "# Instructions:\n",
    "## Getting Started\n",
    "In this exercise, we will be using data from `rolling stone's top 500 albums`. We have this data contained in the `data.csv` file. We will be building out the following functions to answer questions and interact with this data.\n",
    "\n",
    "> **remember:** reading from a csv file in python looks like the following:\n",
    "\n",
    "```python \n",
    "import csv\n",
    "\n",
    "    with open(file_name) as f:\n",
    "        # we are using DictReader because we want our information to be in dictionary format.\n",
    "        reader = csv.DictReader(f)\n",
    "        # some more code\n",
    "```\n",
    "\n",
    "Once we have our `reader` reading our file as dictionaries, we want our data to be a list of dictionaries. So, we need to loop through our `reader` and create a list. *hint: list comprehension / for loops are your friend\"\n",
    "\n",
    "```python\n",
    "# our data will look something like this once we have read it and turned it into a list of `OrderedDict`s\n",
    "# don't worry, the ordered dicts look different but we can interact with them the same way we do normal dicts\n",
    "[OrderedDict([('number', '1'), ('year', '1967'), ('album', \"Sgt. Pepper's Lonely Hearts Club Band\"), ('artist', 'The Beatles'), ('genre', 'Rock'), ('subgenre', 'Rock & Roll, Psychedelic Rock')]), OrderedDict([('number', '2'), ('year', '1966'), ('album', 'Pet Sounds'), ('artist', 'The Beach Boys'), ('genre', 'Rock'), ('subgenre', 'Pop Rock, Psychedelic Rock')]), OrderedDict([('number', '3'), ('year', '1966'), ('album', 'Revolver'), ('artist', 'The Beatles'), ('genre', 'Rock'), ('subgenre', 'Psychedelic Rock, Pop Rock')])]\n",
    "```\n",
    "\n",
    "After we have our data formated the way we want it, we can now begin working on defining our functions."
   ]
  },
  {
   "cell_type": "markdown",
   "metadata": {},
   "source": [
    "## Importing our data"
   ]
  },
  {
   "cell_type": "code",
   "execution_count": null,
   "metadata": {},
   "outputs": [],
   "source": [
    "import csv\n",
    "\n",
    "our_data = []\n",
    "with open('./data.csv') as f:\n",
    "    reader = csv.DictReader(f)\n",
    "    for item in reader:\n",
    "        our_data.append(item)\n",
    "        "
   ]
  },
  {
   "cell_type": "code",
   "execution_count": null,
   "metadata": {
    "scrolled": true
   },
   "outputs": [],
   "source": [
    "our_data[0]"
   ]
  },
  {
   "cell_type": "markdown",
   "metadata": {},
   "source": [
    "## Functions to build-out\n",
    "### Searching Functions"
   ]
  },
  {
   "cell_type": "markdown",
   "metadata": {},
   "source": [
    "* Find by name - Takes in a string that represents the name of an album. Should return a dictionary with the correct album, or return None."
   ]
  },
  {
   "cell_type": "code",
   "execution_count": null,
   "metadata": {},
   "outputs": [],
   "source": [
    "def find_by_name(our_data,name):\n",
    "    for album in our_data:\n",
    "        if album['album'] == name:\n",
    "            return album\n",
    "    return None"
   ]
  },
  {
   "cell_type": "code",
   "execution_count": null,
   "metadata": {},
   "outputs": [],
   "source": [
    "find_by_name(our_data, 'Revolver' )"
   ]
  },
  {
   "cell_type": "markdown",
   "metadata": {},
   "source": [
    "* Find by rank - Takes in a number that represents the rank in the list of top albums and returns the album with that rank. If there is no album with that rank, it returns None."
   ]
  },
  {
   "cell_type": "code",
   "execution_count": null,
   "metadata": {},
   "outputs": [],
   "source": [
    "def find_by_rank(our_data,rank):\n",
    "    for album in our_data:\n",
    "        if album['number'] == str(rank):\n",
    "            return album\n",
    "    return None\n",
    "    "
   ]
  },
  {
   "cell_type": "code",
   "execution_count": null,
   "metadata": {},
   "outputs": [],
   "source": [
    "find_by_rank(our_data,42)"
   ]
  },
  {
   "cell_type": "markdown",
   "metadata": {},
   "source": [
    "* Find by year - Takes in a number for the year in which an album was released and returns a list of albums that were released in that year. If there are no albums released in the given year, it returns an empty list."
   ]
  },
  {
   "cell_type": "code",
   "execution_count": null,
   "metadata": {},
   "outputs": [],
   "source": [
    "def find_by_year(our_data,year):\n",
    "    return [album for album in our_data if album['year'] == str(year)]"
   ]
  },
  {
   "cell_type": "code",
   "execution_count": null,
   "metadata": {},
   "outputs": [],
   "source": [
    "find_by_year(our_data,1989)"
   ]
  },
  {
   "cell_type": "markdown",
   "metadata": {},
   "source": [
    "* Find by years - Takes in a start year and end year. Returns a list of all albums that were released on or between the start and end years. If no albums are found for those years, then an empty list is returned."
   ]
  },
  {
   "cell_type": "code",
   "execution_count": null,
   "metadata": {},
   "outputs": [],
   "source": [
    "def multiple_years(our_data, start, end):\n",
    "    count = start\n",
    "    album_list = []\n",
    "    while count <= end:\n",
    "        album_list.append(find_by_year(our_data,count))\n",
    "        count += 1\n",
    "    return album_list"
   ]
  },
  {
   "cell_type": "code",
   "execution_count": null,
   "metadata": {},
   "outputs": [],
   "source": [
    "multiple_years(our_data, 1970,1979)"
   ]
  },
  {
   "cell_type": "markdown",
   "metadata": {},
   "source": [
    "* Find by ranks - Takes in a start rank and end rank. Returns a list of albums that are ranked between the start and end ranks. If no albums are found for those ranks, then an empty list is returned."
   ]
  },
  {
   "cell_type": "code",
   "execution_count": null,
   "metadata": {},
   "outputs": [],
   "source": [
    "def multiple_ranks(our_data,start, end):\n",
    "    count = start\n",
    "    album_list = []\n",
    "    while count <= end:\n",
    "        album_list.append(find_by_rank(our_data, count))\n",
    "        count += 1\n",
    "    return album_list"
   ]
  },
  {
   "cell_type": "code",
   "execution_count": null,
   "metadata": {},
   "outputs": [],
   "source": [
    "multiple_ranks(our_data, 1, 10)"
   ]
  },
  {
   "cell_type": "markdown",
   "metadata": {},
   "source": [
    "## All Functions"
   ]
  },
  {
   "cell_type": "markdown",
   "metadata": {},
   "source": [
    "* All titles - Returns a list of titles for each album."
   ]
  },
  {
   "cell_type": "code",
   "execution_count": null,
   "metadata": {},
   "outputs": [],
   "source": [
    "def all_titles(our_data):\n",
    "    return [album['album'] for album in our_data]"
   ]
  },
  {
   "cell_type": "code",
   "execution_count": null,
   "metadata": {},
   "outputs": [],
   "source": [
    "all_titles(our_data)"
   ]
  },
  {
   "cell_type": "markdown",
   "metadata": {},
   "source": [
    "* All artists - Returns a list of artist names for each album."
   ]
  },
  {
   "cell_type": "code",
   "execution_count": null,
   "metadata": {},
   "outputs": [],
   "source": [
    "def all_artists(our_data):\n",
    "    return [album['artist'] for album in our_data]"
   ]
  },
  {
   "cell_type": "code",
   "execution_count": null,
   "metadata": {},
   "outputs": [],
   "source": [
    "all_artists(our_data)"
   ]
  },
  {
   "cell_type": "markdown",
   "metadata": {},
   "source": [
    "## Questions to answer/functions"
   ]
  },
  {
   "cell_type": "markdown",
   "metadata": {},
   "source": [
    "* Artists with the most albums - Returns the artist with the highest amount of albums on the list of top albums"
   ]
  },
  {
   "cell_type": "code",
   "execution_count": null,
   "metadata": {},
   "outputs": [],
   "source": [
    "def most_popular_artist(our_data):\n",
    "    counter_dict = {}\n",
    "    for artist in all_artists(our_data):\n",
    "        if artist in counter_dict:\n",
    "            counter_dict[artist] += 1\n",
    "        else:\n",
    "            counter_dict[artist] = 1\n",
    "    maximum_albums = max(counter_dict.values())\n",
    "    artist_lists = []\n",
    "    for keys, values in counter_dict.items():\n",
    "        if values == maximum_albums:\n",
    "            artist_lists.append(keys) \n",
    "    return artist_lists\n",
    "        "
   ]
  },
  {
   "cell_type": "code",
   "execution_count": null,
   "metadata": {},
   "outputs": [],
   "source": [
    "most_popular_artist(our_data)"
   ]
  },
  {
   "cell_type": "markdown",
   "metadata": {},
   "source": [
    "* Histogram of albums by decade - Returns a histogram with each decade pointing to the number of albums released during that decade."
   ]
  },
  {
   "cell_type": "code",
   "execution_count": null,
   "metadata": {},
   "outputs": [],
   "source": [
    "def histogram_decades(our_data):\n",
    "    decade_dict = {}\n",
    "    for album in our_data:\n",
    "        decade = int(album['year'])//10\n",
    "        if decade in decade_dict:\n",
    "            decade_dict[decade] += 1\n",
    "        else:\n",
    "            decade_dict[decade] = 1\n",
    "    return decade_dict"
   ]
  },
  {
   "cell_type": "code",
   "execution_count": null,
   "metadata": {},
   "outputs": [],
   "source": [
    "!pip install plotly\n",
    "from plotly.offline import init_notebook_mode, plot, iplot\n",
    "import plotly.graph_objs as go\n",
    "hist_decades = histogram_decades(our_data)\n",
    "\n",
    "\n",
    "init_notebook_mode(connected=True)\n",
    "iplot([{'type':'bar','x' : ['1950s','1960s','1970s','1980s','1990s','2000s','2010s'],'y': list(hist_decades.values())}])\n"
   ]
  },
  {
   "cell_type": "markdown",
   "metadata": {},
   "source": [
    "* Histogram by genre - Returns a histogram with each genre pointing to the number of albums that are categorized as being in that genre."
   ]
  },
  {
   "cell_type": "code",
   "execution_count": null,
   "metadata": {},
   "outputs": [],
   "source": [
    "def histogram_genres(our_data):\n",
    "    genre_list = []\n",
    "    for album in our_data:\n",
    "        genre_list.extend(genre.strip() for genre in album['genre'].split(','))\n",
    "    genre_dict = {}\n",
    "    for genre in genre_list:\n",
    "        if genre in genre_dict:\n",
    "            genre_dict[genre] += 1\n",
    "        else:\n",
    "            genre_dict[genre] = 1\n",
    "    return genre_dict"
   ]
  },
  {
   "cell_type": "code",
   "execution_count": null,
   "metadata": {},
   "outputs": [],
   "source": [
    "genre_hist = histogram_genres(our_data)\n",
    "print(genre_hist)"
   ]
  },
  {
   "cell_type": "code",
   "execution_count": null,
   "metadata": {
    "scrolled": true
   },
   "outputs": [],
   "source": [
    "iplot([{'type':'bar','x':list(genre_hist.keys()),'y':list(genre_hist.values()),'name':'Number of albums by genre'}])"
   ]
  },
  {
   "cell_type": "markdown",
   "metadata": {},
   "source": [
    "## Next Steps"
   ]
  },
  {
   "cell_type": "markdown",
   "metadata": {},
   "source": [
    "Now that we have our functions querying our Album data, let's compare that data with the top 500 songs. We have another file -- a text file! -- that contains the data we need for the top 500 songs. Reading a text file is pretty similar to reading a csv file, however, it tends to need a bit more massaging to get your data formatted the way you want it.\n",
    "\n",
    "```python\n",
    "    # open the text file in read\n",
    "    text_file = open('top-500-songs.txt', 'r')\n",
    "    # read each line of the text file\n",
    "    # here is where you can print out the lines to your terminal and get an idea \n",
    "    # for how you might think about re-formatting the data\n",
    "    lines = text_file.readlines()\n",
    "\n",
    "    print(lines)\n",
    "    # the output will look something like this:\n",
    "['1\\tLike a Rolling Stone\\tBob Dylan\\t1965\\n', '2\\tSatisfaction\\tThe Rolling Stones\\t1965\\n', '3\\tImagine\\tJohn Lennon\\t1971\\n', \"4\\tWhat's Going On\\tMarvin Gaye\\t1971\\n\", '5\\tRespect\\tAretha Franklin\\t1967\\n', '6\\tGood Vibrations\\tThe Beach Boys\\t1966\\n', '7\\tJohnny B. Goode\\tChuck Berry\\t1958\\n', '8\\tHey Jude\\tThe Beatles\\t1968\\n', ...]\n",
    "```\n",
    "\n",
    "It looks like `\\t` is how the text file is separating each element on a line. So, we need a function that can separate a string into a list. Then we can tell this function on what to split our string (i.e. `\\t`). From there we will have a list of lists that are formatted like the following:\n",
    "```python\n",
    "[\"RANK\", \"NAME\", \"ARTIST\", \"YEAR\"]\n",
    "```\n",
    "We need to use our knowledge of iterating to go through each of these elements and turn them into dictionaries with the keys, \"rank\", \"name\", \"artist\", \"year\", pointing to the appropriate values. So, for song number 1, we want it to look like:\n",
    "```python\n",
    "{'rank': 1, 'name': \"Like a Rolling Stone\", 'artist'\"Bob Dylan\": , 'year': 1965}\n",
    "```\n",
    "\n",
    "Once we have a list of songs that are formatted like the above, we can move on to figuring out which songs are from the top albums and which albums and artists have the most 'top songs'."
   ]
  },
  {
   "cell_type": "code",
   "execution_count": null,
   "metadata": {},
   "outputs": [],
   "source": [
    "text_file = open('top-500-songs.txt', 'r')\n",
    "lines = text_file.readlines()\n",
    "\n",
    "def file_splitter(delimiter):\n",
    "    return [line.strip().split(delimiter) for line in lines]"
   ]
  },
  {
   "cell_type": "code",
   "execution_count": null,
   "metadata": {},
   "outputs": [],
   "source": [
    "songs = file_splitter('\\t')"
   ]
  },
  {
   "cell_type": "code",
   "execution_count": null,
   "metadata": {
    "scrolled": true
   },
   "outputs": [],
   "source": [
    "songs[:10]"
   ]
  },
  {
   "cell_type": "code",
   "execution_count": null,
   "metadata": {},
   "outputs": [],
   "source": [
    "def song_dict_maker(songs):\n",
    "    output_list = []\n",
    "    for song in songs:\n",
    "        new_dict = {}\n",
    "        new_dict['rank'] = song[0]\n",
    "        new_dict['song'] = song[1]\n",
    "        new_dict['artist'] = song[2]\n",
    "        new_dict['year'] = song[3]\n",
    "        output_list.append(new_dict)\n",
    "    return output_list\n",
    "    "
   ]
  },
  {
   "cell_type": "code",
   "execution_count": null,
   "metadata": {},
   "outputs": [],
   "source": [
    "song_dict = song_dict_maker(songs)"
   ]
  },
  {
   "cell_type": "code",
   "execution_count": null,
   "metadata": {},
   "outputs": [],
   "source": [
    "import json\n",
    "\n",
    "file = open('track_data.json', 'r')\n",
    "json_data = json.load(file)\n",
    "\n",
    "print(json_data)\n",
    "# output will look like this:\n",
    "# [{'artist': 'The Beatles', 'album': \"Sgt. Pepper's Lonely Hearts Club Band\", 'tracks': [\"Sgt. Pepper's Lonely Hearts Club Band - Remix\", 'With A Little Help From My Friends - Remix', 'Lucy In The Sky With Diamonds - Remix', 'Getting Better - Remix', 'Fixing A Hole - Remix', \"She's Leaving Home - Remix\", 'Being For The Benefit Of Mr. Kite! - Remix', 'Within You Without You - Remix', \"When I'm Sixty-Four - Remix\", 'Lovely Rita - Remix', 'Good Morning Good Morning - Remix', \"Sgt. Pepper's Lonely Hearts Club Band (Reprise) - Remix\", 'A Day In The Life - Remix', \"Sgt. Pepper's Lonely Hearts Club Band - Take 9 And Speech\", 'With A Little Help From My Friends - Take 1 / False Start And Take 2 / Instrumental', 'Lucy In The Sky With Diamonds - Take 1', 'Getting Better - Take 1 / Instrumental And Speech At The End', 'Fixing A Hole - Speech And Take 3', \"She's Leaving Home - Take 1 / Instrumental\", 'Being For The Benefit Of Mr. Kite! - Take 4', 'Within You Without You - Take 1 / Indian Instruments', \"When I'm Sixty-Four - Take 2\", 'Lovely Rita - Speech And Take 9', 'Good Morning Good Morning - Take 8', \"Sgt. Pepper's Lonely Hearts Club Band (Reprise) - Speech And Take 8\", 'A Day In The Life - Take 1 With Hums', 'Strawberry Fields Forever - Take 7', 'Strawberry Fields Forever - Take 26', 'Strawberry Fields Forever - Stereo Mix 2015', 'Penny Lane - Take 6 / Instrumental', 'Penny Lane - Stereo Mix 2017']}, {'artist': 'The Beach Boys', 'album': 'Pet Sounds', 'tracks': [\"Wouldn't It Be Nice - Digitally Remastered 96\", 'You Still Believe In Me - Digitally Remastered 96', \"That's Not Me - 1996 Digital Remaster\", \"Don't Talk (Put Your Head On My Shoulder) - 1996 Digital Remaster\", \"I'm Waiting For The Day - Digitally Remastered 96\", \"Let's Go Away For Awhile - Digitally Remastered 96\", 'Sloop John B - 1996 - Remaster', 'God Only Knows - 1997 - Remaster', \"I Know There's An Answer - Digitally Remastered 96\", 'Here Today - Digitally Remastered 96', \"I Just Wasn't Made For These Times - Digitally Remastered 96\", 'Pet Sounds - Digitally Remastered 96', 'Caroline, No - 1996 Digital Remaster', 'Hang On To Your Ego', \"Wouldn't It Be Nice - 2000 - Remaster\", 'You Still Believe In Me - 1996 Digital Remaster', \"That's Not Me - 1996 Digital Remaster\", \"Don't Talk (Put Your Head On My Shoulder) - 1996 Digital Remaster\", \"I'm Waiting For The Day - 1996 Digital Remaster\", \"Let's Go Away For Awhile - 1996 Digital Remaster\", 'Sloop John B - 1996 Digital Remaster', 'God Only Knows - 1996 Digital Remaster', \"I Know There's An Answer - 1996 Digital Remaster\", 'Here Today - 1996 Digital Remaster', \"I Just Wasn't Made For These Times - 1996 Digital Remaster\", 'Pet Sounds - 1996 Digital Remaster', 'Caroline, No - 1996 Digital Remaster']}, {'artist': 'The Beatles', 'album': 'Revolver', 'tracks': ['Taxman - Remastered', 'Eleanor Rigby - Remastered', \"I'm Only Sleeping - Remastered\", 'Love You To - Remastered', 'Here, There And Everywhere - Remastered', 'Yellow Submarine - Remastered', 'She Said She Said - Remastered', 'Good Day Sunshine - Remastered', 'And Your Bird Can Sing - Remastered', 'For No One - Remastered', 'Doctor Robert - Remastered', 'I Want To Tell You - Remastered', 'Got To Get You Into My Life - Remastered', 'Tomorrow Never Knows - Remastered']}, {'artist': 'Bob Dylan', 'album': 'Highway 61 Revisited', 'tracks': ['Like a Rolling Stone', 'Tombstone Blues', 'It Takes a Lot to Laugh, It Takes a Train to Cry', 'From a Buick 6', 'Ballad of a Thin Man', 'Queen Jane Approximately', 'Highway 61 Revisited', \"Just Like Tom Thumb's Blues\", 'Desolation Row']}, ...]"
   ]
  },
  {
   "cell_type": "code",
   "execution_count": null,
   "metadata": {},
   "outputs": [],
   "source": [
    "def track_cleaner(data):\n",
    "    copy_data = data.copy()\n",
    "    for idx, album in enumerate(data):\n",
    "        copy_data[idx]['tracks'] = list({track.split('-')[0].strip() for track in album['tracks']})\n",
    "    return copy_data\n",
    "tracks = track_cleaner(json_data)"
   ]
  },
  {
   "cell_type": "markdown",
   "metadata": {},
   "source": [
    "**albumWithMostTopSongs** - returns the name of the artist and album that has that most songs featured on the top 500 songs list"
   ]
  },
  {
   "cell_type": "code",
   "execution_count": null,
   "metadata": {},
   "outputs": [],
   "source": [
    "def album_with_most_top_songs(song_dict,album_song_file):\n",
    "    album_popularity_dict = {}\n",
    "    for song in song_dict:\n",
    "        for album in album_song_file:\n",
    "            if song['song'] in album['tracks']:\n",
    "                if album['album'] in album_popularity_dict:\n",
    "                    album_popularity_dict[album['album']] += 1\n",
    "                else:\n",
    "                    album_popularity_dict[album['album']] = 1\n",
    "    print(album_popularity_dict)\n",
    "    most_pop_album_num = max(album_popularity_dict.values())\n",
    "            \n",
    "    return [keys for keys, values in album_popularity_dict.items() if values == most_pop_album_num]\n",
    "            "
   ]
  },
  {
   "cell_type": "code",
   "execution_count": null,
   "metadata": {},
   "outputs": [],
   "source": [
    "album_with_most_top_songs(song_dict, tracks)"
   ]
  },
  {
   "cell_type": "markdown",
   "metadata": {},
   "source": [
    "**albumsWithTopSongs** - returns a list with the name of only the albums that have tracks featured on the list of top 500 songs"
   ]
  },
  {
   "cell_type": "code",
   "execution_count": null,
   "metadata": {},
   "outputs": [],
   "source": [
    "def album_with_top_songs(our_data,song_dict,album_song_file):\n",
    "    albums_with_popular_songs = []\n",
    "    for song in song_dict:\n",
    "        for album in album_song_file:\n",
    "            if song['song'] in album['tracks']:\n",
    "                albums_with_popular_songs.append(album['album'])\n",
    "                \n",
    "    ultimate_album_list = []            \n",
    "    for album in albums_with_popular_songs:\n",
    "        for top_albums in all_titles(our_data):\n",
    "            if album in top_albums:\n",
    "                ultimate_album_list.append(album)\n",
    "                \n",
    "    return list(set(ultimate_album_list))\n",
    "                \n",
    "    "
   ]
  },
  {
   "cell_type": "code",
   "execution_count": null,
   "metadata": {},
   "outputs": [],
   "source": [
    "len(album_with_top_songs(our_data,song_dict,tracks))"
   ]
  },
  {
   "cell_type": "markdown",
   "metadata": {},
   "source": [
    "**songsThatAreOnTopAlbums** - returns a list with the name of only the songs featured on the list of top albums"
   ]
  },
  {
   "cell_type": "code",
   "execution_count": null,
   "metadata": {},
   "outputs": [],
   "source": [
    "def songs_on_top_albums(top_albums,album_song_file):\n",
    "    set_titles = set(all_titles(top_albums))\n",
    "    song_list = []\n",
    "    for album in album_song_file:\n",
    "        if album['album'] in set_titles:\n",
    "            song_list.extend(album['tracks'])\n",
    "    return song_list   "
   ]
  },
  {
   "cell_type": "code",
   "execution_count": null,
   "metadata": {},
   "outputs": [],
   "source": [
    "len(songs_on_top_albums(our_data,tracks))"
   ]
  },
  {
   "cell_type": "markdown",
   "metadata": {},
   "source": [
    "**top10AlbumsByTopSongs** - returns a histogram with the 10 albums that have the most songs that appear in the top songs list. The album names should point to the number of songs that appear on the top 500 songs list."
   ]
  },
  {
   "cell_type": "code",
   "execution_count": null,
   "metadata": {},
   "outputs": [],
   "source": [
    "def top_10_albums_by_songs(song_dict,album_song_file):\n",
    "    album_popularity_dict = {}\n",
    "    for song in song_dict:\n",
    "        for album in album_song_file:\n",
    "            if song['song'] in album['tracks']:\n",
    "                if album['album'] in album_popularity_dict:\n",
    "                    album_popularity_dict[album['album']] += 1\n",
    "                else:\n",
    "                    album_popularity_dict[album['album']] = 1\n",
    "#     print(album_popularity_dict)\n",
    "    sorted_by_value = sorted(album_popularity_dict.items(), key=lambda kv: kv[1],reverse=True)\n",
    "    num_top_songs_on_album = {a:b for a,b in sorted_by_value[:10]}\n",
    "    return iplot([{'type':'bar','x':list(num_top_songs_on_album.keys()),'y':list(num_top_songs_on_album.values())}])\n",
    "      \n",
    "    "
   ]
  },
  {
   "cell_type": "code",
   "execution_count": null,
   "metadata": {},
   "outputs": [],
   "source": [
    "top_10_albums_by_songs(song_dict,tracks)"
   ]
  },
  {
   "cell_type": "markdown",
   "metadata": {},
   "source": [
    "**topOverallArtist** - Artist featured with the most songs and albums on the two lists. This means that if Brittany Spears had 3 of her albums featured on the top albums listed and 10 of her songs featured on the top songs, she would have a total of 13. The artist with the highest aggregate score would be the top overall artist."
   ]
  },
  {
   "cell_type": "code",
   "execution_count": null,
   "metadata": {},
   "outputs": [],
   "source": [
    "from collections import Counter\n",
    "def top_overall_artist(album_data,song_data):\n",
    "    artist_album_count = Counter(all_artists(album_data))\n",
    "    artist_song_count = Counter(all_artists(song_data))\n",
    "    for artist in artist_album_count:\n",
    "        if artist in artist_song_count:\n",
    "            artist_song_count[artist] += artist_album_count[artist]\n",
    "        else:\n",
    "            artist_song_count[artist] = artist_album_count[artist]\n",
    "            \n",
    "    maximum_agg = max(artist_song_count.values())\n",
    "    lst = []\n",
    "    for key, value in artist_song_count.items():\n",
    "        if value == maximum_agg:\n",
    "            lst.append(key)\n",
    "    return lst"
   ]
  },
  {
   "cell_type": "code",
   "execution_count": null,
   "metadata": {},
   "outputs": [],
   "source": [
    "top_overall_artist(our_data,song_dict)"
   ]
  }
 ],
 "metadata": {
  "kernelspec": {
   "display_name": "Python 3",
   "language": "python",
   "name": "python3"
  },
  "language_info": {
   "codemirror_mode": {
    "name": "ipython",
    "version": 3
   },
   "file_extension": ".py",
   "mimetype": "text/x-python",
   "name": "python",
   "nbconvert_exporter": "python",
   "pygments_lexer": "ipython3",
   "version": "3.7.3"
  }
 },
 "nbformat": 4,
 "nbformat_minor": 2
}
